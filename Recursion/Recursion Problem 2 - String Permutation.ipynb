{
 "cells": [
  {
   "cell_type": "markdown",
   "metadata": {
    "collapsed": true
   },
   "source": [
    "# String Permutation\n",
    "\n",
    "## Problem Statement\n",
    "\n",
    "Given a string, write a function that uses recursion to output a list of all the possible permutations of that string.\n",
    "\n",
    "For example, given s='abc' the function should return ['abc', 'acb', 'bac', 'bca', 'cab', 'cba']\n",
    "\n",
    "*Note: If a character is repeated, treat each occurence as distinct, for example an input of 'xxx' would return a list with 6 \"versions\" of 'xxx'*\n",
    "\n",
    "\n",
    "## Fill Out Your Solution Below\n",
    "\n",
    "Let's think about what the steps we need to take here are:"
   ]
  },
  {
   "cell_type": "code",
   "execution_count": 5,
   "metadata": {},
   "outputs": [],
   "source": [
    "def permute(s):\n",
    "    out = []\n",
    "    \n",
    "    #base case\n",
    "    if len(s) == 1:\n",
    "        return s\n",
    "    #recursive case\n",
    "    else:\n",
    "        for i,letter in enumerate(s):\n",
    "            for perm in permute(s[:i]+s[i+1:]):\n",
    "                #print ('I: ',i,'elemento: ', letter,' | letra: ',perm)\n",
    "                out += [letter+perm]\n",
    "    \n",
    "    return out\n",
    "            \n",
    "    pass"
   ]
  },
  {
   "cell_type": "code",
   "execution_count": 9,
   "metadata": {},
   "outputs": [
    {
     "name": "stdout",
     "output_type": "stream",
     "text": [
      "I:  0 elemento:  b  | letra:  c\n",
      "I:  1 elemento:  c  | letra:  b\n",
      "I:  0 elemento:  a  | letra:  bc\n",
      "I:  0 elemento:  a  | letra:  cb\n",
      "I:  0 elemento:  a  | letra:  c\n",
      "I:  1 elemento:  c  | letra:  a\n",
      "I:  1 elemento:  b  | letra:  ac\n",
      "I:  1 elemento:  b  | letra:  ca\n",
      "I:  0 elemento:  a  | letra:  b\n",
      "I:  1 elemento:  b  | letra:  a\n",
      "I:  2 elemento:  c  | letra:  ab\n",
      "I:  2 elemento:  c  | letra:  ba\n"
     ]
    },
    {
     "data": {
      "text/plain": [
       "['abc', 'acb', 'bac', 'bca', 'cab', 'cba']"
      ]
     },
     "execution_count": 9,
     "metadata": {},
     "output_type": "execute_result"
    }
   ],
   "source": [
    "permute('abc')"
   ]
  },
  {
   "cell_type": "markdown",
   "metadata": {},
   "source": [
    "____\n",
    "# Test Your Solution"
   ]
  },
  {
   "cell_type": "code",
   "execution_count": 10,
   "metadata": {},
   "outputs": [
    {
     "name": "stdout",
     "output_type": "stream",
     "text": [
      "I:  0 elemento:  b  | letra:  c\n",
      "I:  1 elemento:  c  | letra:  b\n",
      "I:  0 elemento:  a  | letra:  bc\n",
      "I:  0 elemento:  a  | letra:  cb\n",
      "I:  0 elemento:  a  | letra:  c\n",
      "I:  1 elemento:  c  | letra:  a\n",
      "I:  1 elemento:  b  | letra:  ac\n",
      "I:  1 elemento:  b  | letra:  ca\n",
      "I:  0 elemento:  a  | letra:  b\n",
      "I:  1 elemento:  b  | letra:  a\n",
      "I:  2 elemento:  c  | letra:  ab\n",
      "I:  2 elemento:  c  | letra:  ba\n",
      "I:  0 elemento:  o  | letra:  g\n",
      "I:  1 elemento:  g  | letra:  o\n",
      "I:  0 elemento:  d  | letra:  og\n",
      "I:  0 elemento:  d  | letra:  go\n",
      "I:  0 elemento:  d  | letra:  g\n",
      "I:  1 elemento:  g  | letra:  d\n",
      "I:  1 elemento:  o  | letra:  dg\n",
      "I:  1 elemento:  o  | letra:  gd\n",
      "I:  0 elemento:  d  | letra:  o\n",
      "I:  1 elemento:  o  | letra:  d\n",
      "I:  2 elemento:  g  | letra:  do\n",
      "I:  2 elemento:  g  | letra:  od\n",
      "All test cases passed.\n"
     ]
    }
   ],
   "source": [
    "\"\"\"\n",
    "RUN THIS CELL TO TEST YOUR SOLUTION.\n",
    "\"\"\"\n",
    "\n",
    "from nose.tools import assert_equal\n",
    "\n",
    "class TestPerm(object):\n",
    "    \n",
    "    def test(self,solution):\n",
    "        \n",
    "        assert_equal(sorted(solution('abc')),sorted(['abc', 'acb', 'bac', 'bca', 'cab', 'cba']))\n",
    "        assert_equal(sorted(solution('dog')),sorted(['dog', 'dgo', 'odg', 'ogd', 'gdo', 'god']) )\n",
    "        \n",
    "        print ('All test cases passed.')\n",
    "        \n",
    "\n",
    "\n",
    "# Run Tests\n",
    "t = TestPerm()\n",
    "t.test(permute)"
   ]
  },
  {
   "cell_type": "markdown",
   "metadata": {},
   "source": [
    "## Good Luck!"
   ]
  }
 ],
 "metadata": {
  "kernelspec": {
   "display_name": "Python [conda env:anaconda]",
   "language": "python",
   "name": "conda-env-anaconda-py"
  },
  "language_info": {
   "codemirror_mode": {
    "name": "ipython",
    "version": 3
   },
   "file_extension": ".py",
   "mimetype": "text/x-python",
   "name": "python",
   "nbconvert_exporter": "python",
   "pygments_lexer": "ipython3",
   "version": "3.5.5"
  }
 },
 "nbformat": 4,
 "nbformat_minor": 1
}
